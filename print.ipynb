{
 "cells": [
  {
   "cell_type": "code",
   "execution_count": 1,
   "id": "2ff22cc1-52b2-4d8f-bc03-19b34852bd28",
   "metadata": {},
   "outputs": [],
   "source": [
    "import pytesseract\n",
    "from PIL import Image"
   ]
  },
  {
   "cell_type": "code",
   "execution_count": 2,
   "id": "17fbb527-e2f2-4a19-800a-3ea5e3465110",
   "metadata": {},
   "outputs": [],
   "source": [
    "no_noise=\"dilated_image.jpg\""
   ]
  },
  {
   "cell_type": "code",
   "execution_count": 3,
   "id": "0b40d6bc-51f0-46d3-9cee-4561502e7525",
   "metadata": {},
   "outputs": [],
   "source": [
    "img=Image.open(no_noise)\n",
    "ocr_result=pytesseract.image_to_string(img)"
   ]
  },
  {
   "cell_type": "code",
   "execution_count": 4,
   "id": "11027d37-c9af-441b-b24d-f1d56737f7c2",
   "metadata": {},
   "outputs": [
    {
     "name": "stdout",
     "output_type": "stream",
     "text": [
      " \n",
      "\n",
      "package i;\n",
      "public class Point{\n",
      "private double abscisse;\n",
      "private double ordonne;\n",
      "\n",
      "public Point (double abscisse,double ordonne){\n",
      "this.abscisse=abscis:\n",
      "this.ordonne=ordonne;\n",
      "\n",
      "   \n",
      "\n",
      "}\n",
      "public double getAbscisse(){\n",
      "return abscisse;\n",
      "\n",
      "}\n",
      "Public void setAbscisse({ double abscisse){\n",
      "this.abscisse=abscisse;\n",
      "\n",
      " \n",
      "\n",
      "}\n",
      "\n",
      "public double getOrdonne(){\n",
      "return ordonne;\n",
      "}\n",
      "\n",
      "Public void setOrdonne(double ordonne){\n",
      "this .ordonne=ordonne;\n",
      "\n",
      "/MMRRORRRER PETER KE RECN CEES CHESEEHEREEEEHENEEESNE\n",
      "public Point initialize {double x,double y)\n",
      "\n",
      " \n",
      "\f",
      "\n"
     ]
    }
   ],
   "source": [
    "print(ocr_result)"
   ]
  }
 ],
 "metadata": {
  "kernelspec": {
   "display_name": "base",
   "language": "python",
   "name": "base"
  },
  "language_info": {
   "codemirror_mode": {
    "name": "ipython",
    "version": 3
   },
   "file_extension": ".py",
   "mimetype": "text/x-python",
   "name": "python",
   "nbconvert_exporter": "python",
   "pygments_lexer": "ipython3",
   "version": "3.11.4"
  }
 },
 "nbformat": 4,
 "nbformat_minor": 5
}
